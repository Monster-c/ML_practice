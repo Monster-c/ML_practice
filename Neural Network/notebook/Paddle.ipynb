{
 "cells": [
  {
   "cell_type": "code",
   "execution_count": 1,
   "metadata": {},
   "outputs": [],
   "source": [
    "import paddle\n",
    "from paddle.nn import Linear\n",
    "import paddle.nn.functional as F\n",
    "import numpy as np\n",
    "import os\n",
    "import random"
   ]
  },
  {
   "cell_type": "code",
   "execution_count": 9,
   "metadata": {},
   "outputs": [],
   "source": [
    "def load_data():\n",
    "    datafile = './dataset/housing.data'\n",
    "    data = np.fromfile(datafile, sep=' ', dtype=np.float32)\n",
    "    \n",
    "    feature_names = [ 'CRIM', 'ZN', 'INDUS', 'CHAS', 'NOX', 'RM', 'AGE', \\\n",
    "                      'DIS', 'RAD', 'TAX', 'PTRATIO', 'B', 'LSTAT', 'MEDV' ]\n",
    "    feature_nums = len(feature_names)\n",
    "    \n",
    "    data = data.reshape([data.shape[0] // feature_nums, feature_nums])\n",
    "    \n",
    "    ratio = 0.8\n",
    "    offset = int(data.shape[0] * ratio)\n",
    "    training_data = data[:offset]\n",
    "    \n",
    "    maximums, minimums, avgs = training_data.max(axis=0), training_data.min(axis=0), \\\n",
    "                                training_data.sum(axis=0) / training_data.shape[0]\n",
    "    \n",
    "    global max_values\n",
    "    global min_values\n",
    "    global avg_values\n",
    "    max_values = maximums\n",
    "    min_values = minimums\n",
    "    avg_values = avgs\n",
    "    \n",
    "    for i in range(feature_nums):\n",
    "        data[:, i] = (data[:, i] - avgs[i]) / (maximums[i] - minimums[i])\n",
    "    \n",
    "    training_data = data[:offset]\n",
    "    test_data = data[offset:]\n",
    "    \n",
    "    return training_data, test_data"
   ]
  },
  {
   "cell_type": "code",
   "execution_count": 10,
   "metadata": {},
   "outputs": [],
   "source": [
    "class Regressor(paddle.nn.Layer):\n",
    "    def __init__(self, \n",
    "                num_of_weights):\n",
    "        \n",
    "        super(Regressor, self).__init__()\n",
    "        \n",
    "        self.num_of_weights = num_of_weights\n",
    "        # 定义一层全连接层，输入维度是13，输出维度是1\n",
    "        self.fc = Linear(in_features = self.num_of_weights, out_features=1)\n",
    "    \n",
    "    def forward(self, inputs):\n",
    "        z = self.fc(inputs)\n",
    "        \n",
    "        return z"
   ]
  },
  {
   "cell_type": "code",
   "execution_count": 11,
   "metadata": {},
   "outputs": [],
   "source": [
    "model = Regressor(13)\n",
    "# 开启模型的训练模式\n",
    "model.train()\n",
    "\n",
    "training_data, test_data = load_data()\n",
    "\n",
    "'''定义优化算法，使用随机梯度下降SGD'''\n",
    "opt = paddle.optimizer.SGD(learning_rate=1e-2, parameters=model.parameters())"
   ]
  },
  {
   "cell_type": "code",
   "execution_count": 12,
   "metadata": {},
   "outputs": [
    {
     "name": "stdout",
     "output_type": "stream",
     "text": [
      "epoch_id:0, iter_id:0, loss:[0.05239948]\n",
      "epoch_id:0, iter_id:20, loss:[0.05044193]\n",
      "epoch_id:0, iter_id:40, loss:[0.04870461]\n",
      "epoch_id:1, iter_id:0, loss:[0.04862281]\n",
      "epoch_id:1, iter_id:20, loss:[0.04707587]\n",
      "epoch_id:1, iter_id:40, loss:[0.04567946]\n",
      "epoch_id:2, iter_id:0, loss:[0.04561313]\n",
      "epoch_id:2, iter_id:20, loss:[0.04434928]\n",
      "epoch_id:2, iter_id:40, loss:[0.04319226]\n",
      "epoch_id:3, iter_id:0, loss:[0.04313693]\n",
      "epoch_id:3, iter_id:20, loss:[0.04207582]\n",
      "epoch_id:3, iter_id:40, loss:[0.04109351]\n",
      "epoch_id:4, iter_id:0, loss:[0.04104628]\n",
      "epoch_id:4, iter_id:20, loss:[0.04013606]\n",
      "epoch_id:4, iter_id:40, loss:[0.03928618]\n",
      "epoch_id:5, iter_id:0, loss:[0.03924514]\n",
      "epoch_id:5, iter_id:20, loss:[0.03845138]\n",
      "epoch_id:5, iter_id:40, loss:[0.03770537]\n",
      "epoch_id:6, iter_id:0, loss:[0.03766922]\n",
      "epoch_id:6, iter_id:20, loss:[0.03696828]\n",
      "epoch_id:6, iter_id:40, loss:[0.03630618]\n",
      "epoch_id:7, iter_id:0, loss:[0.03627402]\n",
      "epoch_id:7, iter_id:20, loss:[0.03564903]\n",
      "epoch_id:7, iter_id:40, loss:[0.03505635]\n",
      "epoch_id:8, iter_id:0, loss:[0.03502752]\n",
      "epoch_id:8, iter_id:20, loss:[0.03446599]\n",
      "epoch_id:8, iter_id:40, loss:[0.03393183]\n",
      "epoch_id:9, iter_id:0, loss:[0.0339058]\n",
      "epoch_id:9, iter_id:20, loss:[0.03339821]\n",
      "epoch_id:9, iter_id:40, loss:[0.03291408]\n"
     ]
    }
   ],
   "source": [
    "num_of_epochs = 10\n",
    "batch_size = 10\n",
    "\n",
    "for epoch_id in range(num_of_epochs):\n",
    "    N = len(training_data)\n",
    "    np.random.shuffle(training_data)\n",
    "    mini_batches = [training_data[k:k+batch_size] for k in range(0, N, batch_size)]\n",
    "    \n",
    "    for iter_id, mini_batch in enumerate(mini_batches):\n",
    "        x = np.array(training_data[:, :-1])\n",
    "        y = np.array(training_data[:, -1:])\n",
    "        housing_features = paddle.to_tensor(x)\n",
    "        prices = paddle.to_tensor(y)\n",
    "        \n",
    "        # 前向计算\n",
    "        predicts = model(housing_features)\n",
    "        # 计算损失\n",
    "        loss = F.square_error_cost(predicts, label=prices)\n",
    "        avg_loss = paddle.mean(loss)\n",
    "        if iter_id % 20 == 0:\n",
    "            print('epoch_id:{}, iter_id:{}, loss:{}'.format(epoch_id, iter_id, avg_loss.numpy()))\n",
    "        \n",
    "        # 反向传播\n",
    "        avg_loss.backward()\n",
    "        # 最小化loss，更新参数\n",
    "        opt.step()\n",
    "        # 清除梯度\n",
    "        opt.clear_grad()"
   ]
  },
  {
   "cell_type": "code",
   "execution_count": 13,
   "metadata": {},
   "outputs": [
    {
     "name": "stdout",
     "output_type": "stream",
     "text": [
      "模型保存成功\n"
     ]
    }
   ],
   "source": [
    "paddle.save(model.state_dict(), './model/LR_model.pdparams')\n",
    "print('模型保存成功')"
   ]
  },
  {
   "cell_type": "code",
   "execution_count": 14,
   "metadata": {},
   "outputs": [
    {
     "name": "stdout",
     "output_type": "stream",
     "text": [
      "Inference result is [[15.646884]], the corresponding label is 19.700000762939453\n"
     ]
    }
   ],
   "source": [
    "'''测试模型'''\n",
    "def load_one_example():\n",
    "    idx = np.random.randint(0, test_data.shape[0])\n",
    "    idx = -10\n",
    "    one_data, label = test_data[idx, :-1], test_data[idx, -1]\n",
    "    one_data = one_data.reshape([1, -1])\n",
    "    \n",
    "    return one_data, label\n",
    "\n",
    "# 参数为保存模型参数的文件地址\n",
    "model_dict = paddle.load('LR_model.pdparams')\n",
    "model.load_dict(model_dict)\n",
    "model.eval()\n",
    "\n",
    "# 参数为数据集的文件地址\n",
    "one_data, label = load_one_example()\n",
    "# 将数据转为动态图的variable格式 \n",
    "one_data = paddle.to_tensor(one_data)\n",
    "predict = model(one_data)\n",
    "\n",
    "# 对结果做反归一化处理\n",
    "predict = predict * (max_values[-1] - min_values[-1]) + avg_values[-1]\n",
    "# 对label数据做反归一化处理\n",
    "label = label * (max_values[-1] - min_values[-1]) + avg_values[-1]\n",
    "\n",
    "print(\"Inference result is {}, the corresponding label is {}\".format(predict.numpy(), label))\n"
   ]
  }
 ],
 "metadata": {
  "kernelspec": {
   "display_name": "Python 3",
   "language": "python",
   "name": "python3"
  },
  "language_info": {
   "codemirror_mode": {
    "name": "ipython",
    "version": 3
   },
   "file_extension": ".py",
   "mimetype": "text/x-python",
   "name": "python",
   "nbconvert_exporter": "python",
   "pygments_lexer": "ipython3",
   "version": "3.8.5"
  }
 },
 "nbformat": 4,
 "nbformat_minor": 4
}
