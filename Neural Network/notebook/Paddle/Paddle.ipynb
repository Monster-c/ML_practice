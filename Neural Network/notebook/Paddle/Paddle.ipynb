{
 "cells": [
  {
   "cell_type": "code",
   "execution_count": 1,
   "metadata": {},
   "outputs": [],
   "source": [
    "import paddle\n",
    "from paddle.nn import Linear\n",
    "import paddle.nn.functional as F\n",
    "import numpy as np\n",
    "import os\n",
    "import random"
   ]
  },
  {
   "cell_type": "code",
   "execution_count": 9,
   "metadata": {},
   "outputs": [],
   "source": [
    "def load_data():\n",
    "    datafile = './dataset/housing.data'\n",
    "    data = np.fromfile(datafile, sep=' ', dtype=np.float32)\n",
    "    \n",
    "    feature_names = [ 'CRIM', 'ZN', 'INDUS', 'CHAS', 'NOX', 'RM', 'AGE', \\\n",
    "                      'DIS', 'RAD', 'TAX', 'PTRATIO', 'B', 'LSTAT', 'MEDV' ]\n",
    "    feature_nums = len(feature_names)\n",
    "    \n",
    "    data = data.reshape([data.shape[0] // feature_nums, feature_nums])\n",
    "    \n",
    "    ratio = 0.8\n",
    "    offset = int(data.shape[0] * ratio)\n",
    "    training_data = data[:offset]\n",
    "    \n",
    "    maximums, minimums, avgs = training_data.max(axis=0), training_data.min(axis=0), \\\n",
    "                                training_data.sum(axis=0) / training_data.shape[0]\n",
    "    \n",
    "    global max_values\n",
    "    global min_values\n",
    "    global avg_values\n",
    "    max_values = maximums\n",
    "    min_values = minimums\n",
    "    avg_values = avgs\n",
    "    \n",
    "    for i in range(feature_nums):\n",
    "        data[:, i] = (data[:, i] - avgs[i]) / (maximums[i] - minimums[i])\n",
    "    \n",
    "    training_data = data[:offset]\n",
    "    test_data = data[offset:]\n",
    "    \n",
    "    return training_data, test_data"
   ]
  },
  {
   "cell_type": "code",
   "execution_count": 10,
   "metadata": {},
   "outputs": [],
   "source": [
    "class Regressor(paddle.nn.Layer):\n",
    "    def __init__(self, \n",
    "                num_of_weights):\n",
    "        \n",
    "        super(Regressor, self).__init__()\n",
    "        \n",
    "        self.num_of_weights = num_of_weights\n",
    "        # 定义一层全连接层，输入维度是13，输出维度是1\n",
    "        self.fc = Linear(in_features = self.num_of_weights, out_features=1)\n",
    "    \n",
    "    def forward(self, inputs):\n",
    "        z = self.fc(inputs)\n",
    "        \n",
    "        return z"
   ]
  },
  {
   "cell_type": "code",
   "execution_count": 11,
   "metadata": {},
   "outputs": [],
   "source": [
    "model = Regressor(13)\n",
    "# 开启模型的训练模式\n",
    "model.train()\n",
    "\n",
    "training_data, test_data = load_data()\n",
    "\n",
    "'''定义优化算法，使用随机梯度下降SGD'''\n",
    "opt = paddle.optimizer.SGD(learning_rate=1e-2, parameters=model.parameters())"
   ]
  },
  {
   "cell_type": "code",
   "execution_count": 12,
   "metadata": {},
   "outputs": [
    {
     "name": "stdout",
     "output_type": "stream",
     "text": [
      "epoch_id:0, iter_id:0, loss:[0.05239948]\n",
      "epoch_id:0, iter_id:20, loss:[0.05044193]\n",
      "epoch_id:0, iter_id:40, loss:[0.04870461]\n",
      "epoch_id:1, iter_id:0, loss:[0.04862281]\n",
      "epoch_id:1, iter_id:20, loss:[0.04707587]\n",
      "epoch_id:1, iter_id:40, loss:[0.04567946]\n",
      "epoch_id:2, iter_id:0, loss:[0.04561313]\n",
      "epoch_id:2, iter_id:20, loss:[0.04434928]\n",
      "epoch_id:2, iter_id:40, loss:[0.04319226]\n",
      "epoch_id:3, iter_id:0, loss:[0.04313693]\n",
      "epoch_id:3, iter_id:20, loss:[0.04207582]\n",
      "epoch_id:3, iter_id:40, loss:[0.04109351]\n",
      "epoch_id:4, iter_id:0, loss:[0.04104628]\n",
      "epoch_id:4, iter_id:20, loss:[0.04013606]\n",
      "epoch_id:4, iter_id:40, loss:[0.03928618]\n",
      "epoch_id:5, iter_id:0, loss:[0.03924514]\n",
      "epoch_id:5, iter_id:20, loss:[0.03845138]\n",
      "epoch_id:5, iter_id:40, loss:[0.03770537]\n",
      "epoch_id:6, iter_id:0, loss:[0.03766922]\n",
      "epoch_id:6, iter_id:20, loss:[0.03696828]\n",
      "epoch_id:6, iter_id:40, loss:[0.03630618]\n",
      "epoch_id:7, iter_id:0, loss:[0.03627402]\n",
      "epoch_id:7, iter_id:20, loss:[0.03564903]\n",
      "epoch_id:7, iter_id:40, loss:[0.03505635]\n",
      "epoch_id:8, iter_id:0, loss:[0.03502752]\n",
      "epoch_id:8, iter_id:20, loss:[0.03446599]\n",
      "epoch_id:8, iter_id:40, loss:[0.03393183]\n",
      "epoch_id:9, iter_id:0, loss:[0.0339058]\n",
      "epoch_id:9, iter_id:20, loss:[0.03339821]\n",
      "epoch_id:9, iter_id:40, loss:[0.03291408]\n"
     ]
    }
   ],
   "source": [
    "num_of_epochs = 10\n",
    "batch_size = 10\n",
    "\n",
    "for epoch_id in range(num_of_epochs):\n",
    "    N = len(training_data)\n",
    "    np.random.shuffle(training_data)\n",
    "    mini_batches = [training_data[k:k+batch_size] for k in range(0, N, batch_size)]\n",
    "    \n",
    "    for iter_id, mini_batch in enumerate(mini_batches):\n",
    "        x = np.array(training_data[:, :-1])\n",
    "        y = np.array(training_data[:, -1:])\n",
    "        housing_features = paddle.to_tensor(x)\n",
    "        prices = paddle.to_tensor(y)\n",
    "        \n",
    "        # 前向计算\n",
    "        predicts = model(housing_features)\n",
    "        # 计算损失\n",
    "        loss = F.square_error_cost(predicts, label=prices)\n",
    "        avg_loss = paddle.mean(loss)\n",
    "        if iter_id % 20 == 0:\n",
    "            print('epoch_id:{}, iter_id:{}, loss:{}'.format(epoch_id, iter_id, avg_loss.numpy()))\n",
    "        \n",
    "        # 反向传播\n",
    "        avg_loss.backward()\n",
    "        # 最小化loss，更新参数\n",
    "        opt.step()\n",
    "        # 清除梯度\n",
    "        opt.clear_grad()"
   ]
  },
  {
   "cell_type": "code",
   "execution_count": 13,
   "metadata": {},
   "outputs": [
    {
     "name": "stdout",
     "output_type": "stream",
     "text": [
      "模型保存成功\n"
     ]
    }
   ],
   "source": [
    "paddle.save(model.state_dict(), './model/LR_model.pdparams')\n",
    "print('模型保存成功')"
   ]
  },
  {
   "cell_type": "code",
   "execution_count": 14,
   "metadata": {},
   "outputs": [
    {
     "name": "stdout",
     "output_type": "stream",
     "text": [
      "Inference result is [[15.646884]], the corresponding label is 19.700000762939453\n"
     ]
    }
   ],
   "source": [
    "'''测试模型'''\n",
    "def load_one_example():\n",
    "    idx = np.random.randint(0, test_data.shape[0])\n",
    "    idx = -10\n",
    "    one_data, label = test_data[idx, :-1], test_data[idx, -1]\n",
    "    one_data = one_data.reshape([1, -1])\n",
    "    \n",
    "    return one_data, label\n",
    "\n",
    "# 参数为保存模型参数的文件地址\n",
    "model_dict = paddle.load('LR_model.pdparams')\n",
    "model.load_dict(model_dict)\n",
    "model.eval()\n",
    "\n",
    "# 参数为数据集的文件地址\n",
    "one_data, label = load_one_example()\n",
    "# 将数据转为动态图的variable格式 \n",
    "one_data = paddle.to_tensor(one_data)\n",
    "predict = model(one_data)\n",
    "\n",
    "# 对结果做反归一化处理\n",
    "predict = predict * (max_values[-1] - min_values[-1]) + avg_values[-1]\n",
    "# 对label数据做反归一化处理\n",
    "label = label * (max_values[-1] - min_values[-1]) + avg_values[-1]\n",
    "\n",
    "print(\"Inference result is {}, the corresponding label is {}\".format(predict.numpy(), label))\n"
   ]
  },
  {
   "cell_type": "code",
   "execution_count": 2,
   "metadata": {},
   "outputs": [
    {
     "name": "stderr",
     "output_type": "stream",
     "text": [
      "D:\\Path\\Anaconda\\lib\\site-packages\\ipykernel\\ipkernel.py:283: DeprecationWarning: `should_run_async` will not call `transform_cell` automatically in the future. Please pass the result to `transformed_cell` argument and any exception that happen during thetransform in `preprocessing_exc_tuple` in IPython 7.17 and above.\n",
      "  and should_run_async(code)\n"
     ]
    }
   ],
   "source": [
    "def load_data():\n",
    "    # 从文件导入数据\n",
    "    datafile = './dataset/housing.data'\n",
    "    data = np.fromfile(datafile, sep=' ', dtype=np.float32)\n",
    "\n",
    "    # 每条数据包括14项，其中前面13项是影响因素，第14项是相应的房屋价格中位数\n",
    "    feature_names = [ 'CRIM', 'ZN', 'INDUS', 'CHAS', 'NOX', 'RM', 'AGE', \\\n",
    "                      'DIS', 'RAD', 'TAX', 'PTRATIO', 'B', 'LSTAT', 'MEDV' ]\n",
    "    feature_num = len(feature_names)\n",
    "\n",
    "    # 将原始数据进行Reshape，变成[N, 14]这样的形状\n",
    "    data = data.reshape([data.shape[0] // feature_num, feature_num])\n",
    "\n",
    "    # 将原数据集拆分成训练集和测试集\n",
    "    # 这里使用80%的数据做训练，20%的数据做测试\n",
    "    # 测试集和训练集必须是没有交集的\n",
    "    ratio = 0.8\n",
    "    offset = int(data.shape[0] * ratio)\n",
    "    training_data = data[:offset]\n",
    "\n",
    "    # 计算train数据集的最大值，最小值，平均值\n",
    "    maximums, minimums, avgs = training_data.max(axis=0), training_data.min(axis=0), \\\n",
    "                                 training_data.sum(axis=0) / training_data.shape[0]\n",
    "    \n",
    "    # 记录数据的归一化参数，在预测时对数据做归一化\n",
    "    global max_values\n",
    "    global min_values\n",
    "    global avg_values\n",
    "    max_values = maximums\n",
    "    min_values = minimums\n",
    "    avg_values = avgs\n",
    "\n",
    "    # 对数据进行归一化处理\n",
    "    for i in range(feature_num):\n",
    "        data[:, i] = (data[:, i] - avgs[i]) / (maximums[i] - minimums[i])\n",
    "\n",
    "    # 训练集和测试集的划分比例\n",
    "    training_data = data[:offset]\n",
    "    test_data = data[offset:]\n",
    "    return training_data, test_data"
   ]
  },
  {
   "cell_type": "code",
   "execution_count": 3,
   "metadata": {},
   "outputs": [],
   "source": [
    "class Regressor(paddle.nn.Layer):\n",
    "\n",
    "    # self代表类的实例自身\n",
    "    def __init__(self):\n",
    "        # 初始化父类中的一些参数\n",
    "        super(Regressor, self).__init__()\n",
    "        \n",
    "        # 定义一层全连接层，输入维度是13，输出维度是1\n",
    "        self.fc = Linear(in_features=13, out_features=1)\n",
    "    \n",
    "    # 网络的前向计算\n",
    "    def forward(self, inputs):\n",
    "        x = self.fc(inputs)\n",
    "        return x"
   ]
  },
  {
   "cell_type": "code",
   "execution_count": 4,
   "metadata": {},
   "outputs": [],
   "source": [
    "# 声明定义好的线性回归模型\n",
    "model = Regressor()\n",
    "# 开启模型训练模式\n",
    "model.train()\n",
    "# 加载数据\n",
    "training_data, test_data = load_data()\n",
    "# 定义优化算法，使用随机梯度下降SGD\n",
    "# 学习率设置为0.01\n",
    "opt = paddle.optimizer.SGD(learning_rate=0.01, parameters=model.parameters())"
   ]
  },
  {
   "cell_type": "code",
   "execution_count": 5,
   "metadata": {},
   "outputs": [
    {
     "name": "stdout",
     "output_type": "stream",
     "text": [
      "epoch: 0, iter: 0, loss is: [0.10110427]\n",
      "epoch: 0, iter: 20, loss is: [0.0863585]\n",
      "epoch: 0, iter: 40, loss is: [0.18885991]\n",
      "epoch: 1, iter: 0, loss is: [0.05490042]\n",
      "epoch: 1, iter: 20, loss is: [0.16416094]\n",
      "epoch: 1, iter: 40, loss is: [0.04386979]\n",
      "epoch: 2, iter: 0, loss is: [0.09962933]\n",
      "epoch: 2, iter: 20, loss is: [0.07871637]\n",
      "epoch: 2, iter: 40, loss is: [0.00818549]\n",
      "epoch: 3, iter: 0, loss is: [0.05975778]\n",
      "epoch: 3, iter: 20, loss is: [0.08919506]\n",
      "epoch: 3, iter: 40, loss is: [0.19367181]\n",
      "epoch: 4, iter: 0, loss is: [0.0722723]\n",
      "epoch: 4, iter: 20, loss is: [0.04011645]\n",
      "epoch: 4, iter: 40, loss is: [0.08961165]\n",
      "epoch: 5, iter: 0, loss is: [0.13970749]\n",
      "epoch: 5, iter: 20, loss is: [0.06741773]\n",
      "epoch: 5, iter: 40, loss is: [0.08289269]\n",
      "epoch: 6, iter: 0, loss is: [0.05464761]\n",
      "epoch: 6, iter: 20, loss is: [0.04843052]\n",
      "epoch: 6, iter: 40, loss is: [0.06518123]\n",
      "epoch: 7, iter: 0, loss is: [0.04641677]\n",
      "epoch: 7, iter: 20, loss is: [0.07691812]\n",
      "epoch: 7, iter: 40, loss is: [0.06149705]\n",
      "epoch: 8, iter: 0, loss is: [0.02995457]\n",
      "epoch: 8, iter: 20, loss is: [0.09254763]\n",
      "epoch: 8, iter: 40, loss is: [0.10928878]\n",
      "epoch: 9, iter: 0, loss is: [0.06727578]\n",
      "epoch: 9, iter: 20, loss is: [0.03506372]\n",
      "epoch: 9, iter: 40, loss is: [0.01286392]\n"
     ]
    }
   ],
   "source": [
    "EPOCH_NUM = 10   # 设置外层循环次数\n",
    "BATCH_SIZE = 10  # 设置batch大小\n",
    "\n",
    "# 定义外层循环\n",
    "for epoch_id in range(EPOCH_NUM):\n",
    "    # 在每轮迭代开始之前，将训练数据的顺序随机的打乱\n",
    "    np.random.shuffle(training_data)\n",
    "    # 将训练数据进行拆分，每个batch包含10条数据\n",
    "    mini_batches = [training_data[k:k+BATCH_SIZE] for k in range(0, len(training_data), BATCH_SIZE)]\n",
    "    # 定义内层循环\n",
    "    for iter_id, mini_batch in enumerate(mini_batches):\n",
    "        x = np.array(mini_batch[:, :-1]) # 获得当前批次训练数据\n",
    "        y = np.array(mini_batch[:, -1:]) # 获得当前批次训练标签（真实房价）\n",
    "        # 将numpy数据转为飞桨动态图tensor形式\n",
    "        house_features = paddle.to_tensor(x)\n",
    "        prices = paddle.to_tensor(y)\n",
    "        \n",
    "        # 前向计算\n",
    "        predicts = model(house_features)\n",
    "        \n",
    "        # 计算损失\n",
    "        loss = F.square_error_cost(predicts, label=prices)\n",
    "        avg_loss = paddle.mean(loss)\n",
    "        if iter_id%20==0:\n",
    "            print(\"epoch: {}, iter: {}, loss is: {}\".format(epoch_id, iter_id, avg_loss.numpy()))\n",
    "        \n",
    "        # 反向传播\n",
    "        avg_loss.backward()\n",
    "        # 最小化loss,更新参数\n",
    "        opt.step()\n",
    "        # 清除梯度\n",
    "        opt.clear_grad()"
   ]
  },
  {
   "cell_type": "code",
   "execution_count": 6,
   "metadata": {},
   "outputs": [
    {
     "name": "stdout",
     "output_type": "stream",
     "text": [
      "模型保存成功，模型参数保存在LR_model.pdparams中\n"
     ]
    }
   ],
   "source": [
    "# 保存模型参数，文件名为LR_model.pdparams\n",
    "paddle.save(model.state_dict(), 'LR_model.pdparams')\n",
    "print(\"模型保存成功，模型参数保存在LR_model.pdparams中\")"
   ]
  },
  {
   "cell_type": "code",
   "execution_count": 7,
   "metadata": {},
   "outputs": [],
   "source": [
    "def load_one_example():\n",
    "    # 从上边已加载的测试集中，随机选择一条作为测试数据\n",
    "    idx = np.random.randint(0, test_data.shape[0])\n",
    "    idx = -10\n",
    "    one_data, label = test_data[idx, :-1], test_data[idx, -1]\n",
    "    # 修改该条数据shape为[1,13]\n",
    "    one_data =  one_data.reshape([1,-1])\n",
    "\n",
    "    return one_data, label"
   ]
  },
  {
   "cell_type": "code",
   "execution_count": 8,
   "metadata": {},
   "outputs": [
    {
     "name": "stdout",
     "output_type": "stream",
     "text": [
      "Inference result is [[15.469454]], the corresponding label is 19.700000762939453\n"
     ]
    },
    {
     "name": "stderr",
     "output_type": "stream",
     "text": [
      "D:\\Path\\Anaconda\\lib\\site-packages\\paddle\\fluid\\dygraph\\math_op_patch.py:66: DeprecationWarning: an integer is required (got type numpy.float32).  Implicit conversion to integers using __int__ is deprecated, and may be removed in a future version of Python.\n",
      "  out = core.ops.fill_constant(out, 'dtype', dtype, 'shape', shape,\n"
     ]
    }
   ],
   "source": [
    "# 参数为保存模型参数的文件地址\n",
    "model_dict = paddle.load('LR_model.pdparams')\n",
    "model.load_dict(model_dict)\n",
    "model.eval()\n",
    "\n",
    "# 参数为数据集的文件地址\n",
    "one_data, label = load_one_example()\n",
    "# 将数据转为动态图的variable格式 \n",
    "one_data = paddle.to_tensor(one_data)\n",
    "predict = model(one_data)\n",
    "\n",
    "# 对结果做反归一化处理\n",
    "predict = predict * (max_values[-1] - min_values[-1]) + avg_values[-1]\n",
    "# 对label数据做反归一化处理\n",
    "label = label * (max_values[-1] - min_values[-1]) + avg_values[-1]\n",
    "\n",
    "print(\"Inference result is {}, the corresponding label is {}\".format(predict.numpy(), label))"
   ]
  },
  {
   "cell_type": "code",
   "execution_count": null,
   "metadata": {},
   "outputs": [],
   "source": []
  }
 ],
 "metadata": {
  "kernelspec": {
   "display_name": "Python 3",
   "language": "python",
   "name": "python3"
  },
  "language_info": {
   "codemirror_mode": {
    "name": "ipython",
    "version": 3
   },
   "file_extension": ".py",
   "mimetype": "text/x-python",
   "name": "python",
   "nbconvert_exporter": "python",
   "pygments_lexer": "ipython3",
   "version": "3.8.5"
  }
 },
 "nbformat": 4,
 "nbformat_minor": 4
}
