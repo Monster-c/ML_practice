{
 "cells": [
  {
   "cell_type": "code",
   "execution_count": 1,
   "metadata": {
    "scrolled": true
   },
   "outputs": [
    {
     "name": "stderr",
     "output_type": "stream",
     "text": [
      "Building prefix dict from the default dictionary ...\n",
      "Loading model from cache C:\\Users\\cw\\AppData\\Local\\Temp\\jieba.cache\n",
      "Loading model cost 1.107 seconds.\n",
      "Prefix dict has been built successfully.\n"
     ]
    },
    {
     "name": "stdout",
     "output_type": "stream",
     "text": [
      "J系数:0.25\n"
     ]
    }
   ],
   "source": [
    "import jieba\n",
    "sentence1 = \"今天天气真好\"\n",
    "sentence2 = \"今天天气真不错\"\n",
    "\n",
    "list1 = jieba.lcut(sentence1)\n",
    "list2 = jieba.lcut(sentence2)\n",
    "# print(list1)\n",
    "# print(list2)\n",
    "\n",
    "mol = 0\n",
    "sum = len(list1)\n",
    "# print(sum)\n",
    "\n",
    "for i in list2:\n",
    "        if i not in list1:\n",
    "            sum += 1\n",
    "        else:\n",
    "            mol +=1\n",
    "\n",
    "J_ = mol/sum\n",
    "print(\"J系数:{}\".format(J_))"
   ]
  },
  {
   "cell_type": "code",
   "execution_count": 2,
   "metadata": {
    "scrolled": true
   },
   "outputs": [
    {
     "name": "stdout",
     "output_type": "stream",
     "text": [
      "余弦相似度:0.778498944161523\n"
     ]
    }
   ],
   "source": [
    "import math\n",
    "import jieba\n",
    "import numpy as np\n",
    "# 余弦相似度\n",
    "sentence3 = \"这只鞋子号码大了,那只号码合适。\"\n",
    "sentence4 = \"这只鞋子号码不小，那只更合适。\"\n",
    "\n",
    "stop_words = ['，','。']\n",
    "def drop_stop_words(sentence):\n",
    "    res = []\n",
    "    for i in jieba.lcut(sentence):\n",
    "        if i not in stop_words:\n",
    "            res.append(i)\n",
    "    return res\n",
    "\n",
    "list3 = drop_stop_words(sentence3)\n",
    "list4 = drop_stop_words(sentence4)\n",
    "# print(list3)\n",
    "# print(list4)\n",
    "\n",
    "c = list3 + list4\n",
    "set_c = set(c)\n",
    "# print(set_c)\n",
    "\n",
    "# generate dist to \n",
    "def generate_dist(set_):\n",
    "    res_dist = {}\n",
    "    list_ = list(set_c)\n",
    "    for i in range(len(list_)):\n",
    "        res_dist[list_[i]] = i\n",
    "    return res_dist\n",
    "\n",
    "dist_c = generate_dist(set_c)\n",
    "# print(dist_c)\n",
    "\n",
    "def generate_code(list_, dist_):\n",
    "    res_list = []\n",
    "    for i in range(len(list_)):\n",
    "        res_list.append(dist_[list_[i]])\n",
    "    return res_list\n",
    "\n",
    "list3_code = generate_code(list3, dist_c)\n",
    "list4_code = generate_code(list4, dist_c)\n",
    "# print(list3_code)\n",
    "# print(list4_code)\n",
    "\n",
    "def generate_word_vector(list_, dist_):\n",
    "    res_list = np.zeros(len(dist_))\n",
    "    for i in range(len(list_)):\n",
    "        if list_[i] in dist_:\n",
    "            loc = dist_[list_[i]]\n",
    "            res_list[loc] += 1\n",
    "    return res_list\n",
    "\n",
    "list3_vector = generate_word_vector(list3, dist_c)\n",
    "list4_vector = generate_word_vector(list4, dist_c)\n",
    "# print(list3_vector)\n",
    "# print(list4_vector)\n",
    "\n",
    "mol = np.dot(list3_vector, list4_vector)\n",
    "# print('mol:{}'.format(mol))\n",
    "\n",
    "a = math.sqrt(np.sum(list3_vector*list3_vector))\n",
    "b = math.sqrt(np.sum(list4_vector*list4_vector))\n",
    "# print('a:{}'.format(a))\n",
    "# print('b:{}'.format(b))\n",
    "deno = a * b\n",
    "\n",
    "print('余弦相似度:{}'.format(mol/deno))"
   ]
  },
  {
   "cell_type": "code",
   "execution_count": null,
   "metadata": {},
   "outputs": [],
   "source": []
  }
 ],
 "metadata": {
  "kernelspec": {
   "display_name": "Python 3",
   "language": "python",
   "name": "python3"
  },
  "language_info": {
   "codemirror_mode": {
    "name": "ipython",
    "version": 3
   },
   "file_extension": ".py",
   "mimetype": "text/x-python",
   "name": "python",
   "nbconvert_exporter": "python",
   "pygments_lexer": "ipython3",
   "version": "3.8.5"
  }
 },
 "nbformat": 4,
 "nbformat_minor": 4
}
