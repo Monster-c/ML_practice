{
 "cells": [
  {
   "cell_type": "code",
   "execution_count": 1,
   "id": "5ecaeeb6-785b-41e8-8b25-e3f75b3a282e",
   "metadata": {},
   "outputs": [],
   "source": [
    "import tensorflow as tf"
   ]
  },
  {
   "cell_type": "code",
   "execution_count": 2,
   "id": "05f961f4-9b34-4639-94e5-a0757d8170c4",
   "metadata": {},
   "outputs": [],
   "source": [
    "# sess = tf.Session()\n",
    "sess = tf.InteractiveSession()"
   ]
  },
  {
   "cell_type": "code",
   "execution_count": 3,
   "id": "0f3b941d-24b9-4d8d-8ccf-4ac5e4df2090",
   "metadata": {},
   "outputs": [
    {
     "name": "stdout",
     "output_type": "stream",
     "text": [
      "[[5.5998383 6.0725183 2.2334857 4.7581534 6.1665087]\n",
      " [1.3764267 3.8207278 8.846685  1.4868317 3.8661795]\n",
      " [8.688089  3.3333416 4.132329  7.1136255 7.396326 ]\n",
      " [4.6965036 5.5193515 7.5645266 3.8471775 1.3269596]]\n",
      "[[5.5681977 8.789644  8.11651   1.5910263 7.2961273]\n",
      " [1.957097  8.633908  1.1919003 3.9333916 8.559553 ]\n",
      " [4.5144215 7.99888   1.3843393 2.4103665 1.5774784]\n",
      " [8.962536  4.867361  2.5928845 2.409326  5.6403084]]\n"
     ]
    }
   ],
   "source": [
    "x = tf.placeholder(tf.float32)\n",
    "y = 2*x\n",
    "data = tf.random_uniform([4,5],10)\n",
    "\n",
    "print(data.eval())\n",
    "x_data = sess.run(data)\n",
    "\n",
    "print(data.eval())"
   ]
  },
  {
   "cell_type": "code",
   "execution_count": 4,
   "id": "f70ec316-e292-4055-954b-9dd7918ab2de",
   "metadata": {},
   "outputs": [
    {
     "name": "stdout",
     "output_type": "stream",
     "text": [
      "[[16.755764  16.903692  14.01847   10.231386  19.226152 ]\n",
      " [14.684353   6.3915653 10.620326   6.2906437  5.539747 ]\n",
      " [19.375877   4.080553  13.380083  13.728259   3.2613354]\n",
      " [10.506798  19.049147  18.383718  14.786719  17.17086  ]]\n"
     ]
    }
   ],
   "source": [
    "print(sess.run(y, feed_dict = {x:x_data}))"
   ]
  },
  {
   "cell_type": "code",
   "execution_count": 6,
   "id": "5ac7b01b-22c8-40b3-86e6-ee24aedc78d4",
   "metadata": {},
   "outputs": [],
   "source": [
    "# tf.summary.Filewriter:\n",
    "writher = tf.summary.FileWriter('summary_dir', sess.graph)"
   ]
  },
  {
   "cell_type": "code",
   "execution_count": 16,
   "id": "92c15e1b-c953-4dca-b51c-9ddb02d18863",
   "metadata": {},
   "outputs": [],
   "source": [
    "m = 1000\n",
    "n = 15\n",
    "p = 2\n",
    "\n",
    "X = tf.placeholder(tf.float32, name='X')\n",
    "Y = tf.placeholder(tf.float32, name='Y')\n",
    "\n",
    "bias = tf.Variable(0.0)\n",
    "weights = tf.Variable(0.0)\n",
    "\n",
    "# 计算\n",
    "Y_hat = X*weights + bias\n",
    "# Y_hat = tf.matmul(X, weights) + bias\n",
    "\n",
    "# 损失\n",
    "loss = tf.square(Y - Y_hat, name='loss')"
   ]
  },
  {
   "cell_type": "code",
   "execution_count": 18,
   "id": "ffa02e88-3dbc-47c5-9bac-13de480e6da0",
   "metadata": {},
   "outputs": [
    {
     "data": {
      "text/plain": [
       "<tf.Tensor 'output:0' shape=() dtype=string>"
      ]
     },
     "execution_count": 18,
     "metadata": {},
     "output_type": "execute_result"
    }
   ],
   "source": [
    "tf.summary.scalar('loss', loss)\n",
    "\n",
    "tf.summary.histogram('output', Y_hat)\n"
   ]
  },
  {
   "cell_type": "code",
   "execution_count": 19,
   "id": "fc10342b-53e0-4c5e-89ae-d4074443d4df",
   "metadata": {},
   "outputs": [],
   "source": [
    "init_op = tf.global_variables_initializer()\n",
    "\n",
    "# tf.merge_all_summaries\n",
    "\n",
    "with tf.Session() as sess:\n",
    "    sess.run(init_op)\n",
    "    writer = tf.summary.FileWriter('graphs', sess.graph)\n",
    "writer.close()"
   ]
  },
  {
   "cell_type": "code",
   "execution_count": null,
   "id": "6edaa7ab-c0b0-4352-8600-b94062709425",
   "metadata": {},
   "outputs": [],
   "source": []
  }
 ],
 "metadata": {
  "kernelspec": {
   "display_name": "Python [conda env:rtvc]",
   "language": "python",
   "name": "conda-env-rtvc-py"
  },
  "language_info": {
   "codemirror_mode": {
    "name": "ipython",
    "version": 3
   },
   "file_extension": ".py",
   "mimetype": "text/x-python",
   "name": "python",
   "nbconvert_exporter": "python",
   "pygments_lexer": "ipython3",
   "version": "3.6.12"
  }
 },
 "nbformat": 4,
 "nbformat_minor": 5
}
