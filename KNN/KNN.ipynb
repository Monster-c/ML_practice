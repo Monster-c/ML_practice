{
 "cells": [
  {
   "cell_type": "code",
   "execution_count": 61,
   "metadata": {},
   "outputs": [],
   "source": [
    "# -*- coding =utf-8 -*-\n",
    "# @Time : 2021/4/4 12:12\n",
    "# @Author : 曹显伟\n",
    "# @File MyKNN.py\n",
    "# @Software: Jupyter Lab\n",
    "\n",
    "import numpy as np\n",
    "\n",
    "#  数据是参考书上的P197\n",
    "_label = ['x', 'y']\n",
    "_dataset = np.array([\n",
    "    [0.5, '-'],\n",
    "    [3.0, '+'],\n",
    "    [4.5, '+'],\n",
    "    [4.6, '+'],\n",
    "    [4.9, '+'],\n",
    "    [5.2, '-'],\n",
    "    [5.3, '-'],\n",
    "    [5.5, '+'],\n",
    "    [7.0, '-'],\n",
    "    [9.5, '-']\n",
    "])\n",
    "\n",
    "\n",
    "class MyKNN(object):\n",
    "\n",
    "    def __init__(self, point, num):\n",
    "        self.pre_point = point\n",
    "        self.num_neighbors = num\n",
    "\n",
    "    def get_point_list(self, dataset):\n",
    "        point_list = np.array([dataset[i][0] for i in range(len(dataset))])\n",
    "        return point_list\n",
    "\n",
    "    # 计算两点之间距离\n",
    "    def calc_distance(self, point1, point2):\n",
    "        distance = abs(float(point1) ** 2 - float(point2) ** 2)\n",
    "        return distance\n",
    "\n",
    "    # 计算每个样本距离待预测点之间的距离，并排序后返回索引\n",
    "    def get_dis_index(self):\n",
    "        point_list = self.get_point_list(_dataset)\n",
    "        distance_list = np.array([self.calc_distance(self.pre_point, i) for i in point_list])\n",
    "        # 返回距离排序后的索引\n",
    "        index = np.argsort(distance_list)\n",
    "\n",
    "        return index\n",
    "\n",
    "    def drow_conclusion(self):\n",
    "        res_class = ''\n",
    "        distance_index = self.get_dis_index()\n",
    "        data = _dataset\n",
    "        dict_re = {'+': 0, '-': 0}\n",
    "        # 判断近邻出现的概率大小\n",
    "        for i in range(self.num_neighbors):\n",
    "            dict_re[data[i][1]] += 1\n",
    "        # print(dict_re)\n",
    "        maxs = 0\n",
    "        for i in dict_re.values():\n",
    "            if i >= maxs:\n",
    "                maxs = i\n",
    "        for key in dict_re.keys():\n",
    "            if dict_re[key] == maxs:\n",
    "                res_class = key\n",
    "        return res_class"
   ]
  },
  {
   "cell_type": "code",
   "execution_count": 62,
   "metadata": {},
   "outputs": [
    {
     "name": "stdout",
     "output_type": "stream",
     "text": [
      "类别为：+\n"
     ]
    }
   ],
   "source": [
    "if __name__ == '__main__':\n",
    "    pre_point = 5.0\n",
    "    num_neighbor = 4\n",
    "    knn = MyKNN(pre_point, num_neighbor)\n",
    "    pre_result = knn.drow_conclusion()\n",
    "    print('类别为：{}'.format(pre_result))"
   ]
  },
  {
   "cell_type": "code",
   "execution_count": null,
   "metadata": {},
   "outputs": [],
   "source": []
  }
 ],
 "metadata": {
  "kernelspec": {
   "display_name": "Python 3",
   "language": "python",
   "name": "python3"
  },
  "language_info": {
   "codemirror_mode": {
    "name": "ipython",
    "version": 3
   },
   "file_extension": ".py",
   "mimetype": "text/x-python",
   "name": "python",
   "nbconvert_exporter": "python",
   "pygments_lexer": "ipython3",
   "version": "3.8.5"
  }
 },
 "nbformat": 4,
 "nbformat_minor": 4
}
