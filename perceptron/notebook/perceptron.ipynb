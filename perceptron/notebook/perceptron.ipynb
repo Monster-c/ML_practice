{
 "cells": [
  {
   "cell_type": "code",
   "execution_count": 5,
   "metadata": {},
   "outputs": [],
   "source": [
    "from sklearn import datasets\n",
    "\n",
    "import numpy as np\n",
    "from matplotlib import pyplot as plt"
   ]
  },
  {
   "cell_type": "code",
   "execution_count": 13,
   "metadata": {},
   "outputs": [],
   "source": [
    "'''清空sklearn环境下所有数据'''\n",
    "datasets.clear_data_home()"
   ]
  },
  {
   "cell_type": "code",
   "execution_count": 63,
   "metadata": {},
   "outputs": [],
   "source": [
    "'''是sklearn包自带的数据集，\n",
    "这个数据集包含了威斯康辛州记录的569个病人的乳腺癌恶性/良性（1/0）类别型数据（训练目标），\n",
    "以及与之对应的30个维度的生理指标数据；\n",
    "因此这是个非常标准的二类判别数据集，'''\n",
    "X, y = datasets.load_breast_cancer(return_X_y = 'true')\n",
    "\n",
    "# 将y(1,0)调整为(1,-1)\n",
    "y = np.where(y==0, -1, 1)"
   ]
  },
  {
   "cell_type": "code",
   "execution_count": 65,
   "metadata": {},
   "outputs": [
    {
     "name": "stdout",
     "output_type": "stream",
     "text": [
      "(569, 30)\n",
      "569\n",
      "(569,)\n"
     ]
    }
   ],
   "source": [
    "print(X.shape)\n",
    "print(len(X))\n",
    "print(y.shape)"
   ]
  },
  {
   "cell_type": "code",
   "execution_count": 66,
   "metadata": {},
   "outputs": [],
   "source": [
    "# 模型\n",
    "class My_Perceptron():\n",
    "    def __init__(self):\n",
    "        self.W = np.ones((len(X[0]),), dtype= float)\n",
    "        self.b = 0\n",
    "        self.lr = 0.01\n",
    "# 先训练一百次看看效果\n",
    "        self.epoch = 100\n",
    "    \n",
    "    def fit(self, X, y):\n",
    "        for ep in range(self.epoch):\n",
    "            for i in range(len(X)):\n",
    "                # 异号说明是误分类点\n",
    "                if y[i]*(np.dot(X[i], self.W) + self.b) < 0:\n",
    "                    self.W += self.lr*y[i]*X[i]\n",
    "                    self.b += self.lr*y[i]\n",
    "# 预测\n",
    "    def predict(self, X):\n",
    "        return np.where((np.dot(X, self.W) + self.b)>0, 1, -1)\n",
    "# 评估\n",
    "    def score(self,X,y):\n",
    "        y_pred = self.predict(X)\n",
    "        return 1 - np.count_nonzero(y-y_pred)/len(y)"
   ]
  },
  {
   "cell_type": "code",
   "execution_count": 67,
   "metadata": {},
   "outputs": [
    {
     "name": "stdout",
     "output_type": "stream",
     "text": [
      "0.8963093145869947\n"
     ]
    }
   ],
   "source": [
    "perceptron = My_Perceptron()\n",
    "perceptron.fit(X,y)\n",
    "y_pred = perceptron.predict(X)\n",
    "print(perceptron.score(X,y))"
   ]
  }
 ],
 "metadata": {
  "kernelspec": {
   "display_name": "Python 3",
   "language": "python",
   "name": "python3"
  },
  "language_info": {
   "codemirror_mode": {
    "name": "ipython",
    "version": 3
   },
   "file_extension": ".py",
   "mimetype": "text/x-python",
   "name": "python",
   "nbconvert_exporter": "python",
   "pygments_lexer": "ipython3",
   "version": "3.7.6"
  }
 },
 "nbformat": 4,
 "nbformat_minor": 4
}
