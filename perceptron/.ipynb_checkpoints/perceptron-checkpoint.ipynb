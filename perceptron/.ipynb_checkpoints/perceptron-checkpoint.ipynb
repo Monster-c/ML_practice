{
 "cells": [
  {
   "cell_type": "code",
   "execution_count": null,
   "metadata": {},
   "outputs": [],
   "source": [
    "'''问题：\n",
    "利用感知机划分该数据集\n",
    "输入 输出\n",
    "Xi1 Xi2 Yi\n",
    "0 0 0\n",
    "1 0 1\n",
    "0 1 1\n",
    "1 1 0\n",
    "利用Python绘制散点图如下'''"
   ]
  },
  {
   "cell_type": "code",
   "execution_count": 5,
   "metadata": {},
   "outputs": [],
   "source": [
    "from sklearn import datasets\n",
    "\n",
    "import numpy as np\n",
    "from matplotlib import pyplot as plt"
   ]
  },
  {
   "cell_type": "code",
   "execution_count": 13,
   "metadata": {},
   "outputs": [],
   "source": [
    "'''清空sklearn环境下所有数据'''\n",
    "datasets.clear_data_home()"
   ]
  },
  {
   "cell_type": "code",
   "execution_count": 50,
   "metadata": {},
   "outputs": [],
   "source": [
    "'''是sklearn包自带的数据集，\n",
    "这个数据集包含了威斯康辛州记录的569个病人的乳腺癌恶性/良性（1/0）类别型数据（训练目标），\n",
    "以及与之对应的30个维度的生理指标数据；\n",
    "因此这是个非常标准的二类判别数据集，'''\n",
    "X, y = datasets.load_breast_cancer(return_X_y = 'true')\n",
    "\n",
    "y = np.where(y==0, -1, 1)"
   ]
  },
  {
   "cell_type": "code",
   "execution_count": 51,
   "metadata": {},
   "outputs": [
    {
     "name": "stdout",
     "output_type": "stream",
     "text": [
      "(569, 30)\n",
      "569\n",
      "(569,)\n",
      "-1\n",
      "[1.799e+01 1.038e+01 1.228e+02 1.001e+03 1.184e-01 2.776e-01 3.001e-01\n",
      " 1.471e-01 2.419e-01 7.871e-02 1.095e+00 9.053e-01 8.589e+00 1.534e+02\n",
      " 6.399e-03 4.904e-02 5.373e-02 1.587e-02 3.003e-02 6.193e-03 2.538e+01\n",
      " 1.733e+01 1.846e+02 2.019e+03 1.622e-01 6.656e-01 7.119e-01 2.654e-01\n",
      " 4.601e-01 1.189e-01]\n",
      "17.99\n"
     ]
    }
   ],
   "source": [
    "print(X.shape)\n",
    "print(len(X))\n",
    "print(y.shape)\n",
    "print(y[1])\n",
    "\n",
    "print(X[0])\n",
    "print(X[0][0])"
   ]
  },
  {
   "cell_type": "code",
   "execution_count": 52,
   "metadata": {},
   "outputs": [],
   "source": [
    "# 模型\n",
    "class My_Perceptron():\n",
    "    def __init__(self):\n",
    "        self.W = np.ones((len(X[0]),), dtype= float)\n",
    "        self.b = 0\n",
    "        self.lr = 0.01\n",
    "# 先训练一百次看看效果\n",
    "        self.epoch = 1000\n",
    "    \n",
    "# train\n",
    "    def train(self, X, y):\n",
    "        for ep in range(self.epoch):\n",
    "            for i in range(len(X)):\n",
    "                if y[i]*(np.dot(X[i], self.W) + self.b) <= 0:\n",
    "                    self.W += self.lr*y[i]*X[i]\n",
    "                    self.b += self.lr*y[i]\n",
    "# 预测\n",
    "    def predict(self, X):\n",
    "        return np.where((np.dot(X, self.W) + self.b)>0, 1, -1)\n",
    "    def score(self,X,y):\n",
    "        y_pred = self.predict(X)\n",
    "        return 1 - np.count_nonzero(y-y_pred)/len(y)"
   ]
  },
  {
   "cell_type": "code",
   "execution_count": 53,
   "metadata": {},
   "outputs": [
    {
     "name": "stdout",
     "output_type": "stream",
     "text": [
      "0.9244288224956063\n"
     ]
    }
   ],
   "source": [
    "perceptron = My_Perceptron()\n",
    "perceptron.train(X,y)\n",
    "y_pred = perceptron.predict(X)\n",
    "print(perceptron.score(X,y))"
   ]
  },
  {
   "cell_type": "code",
   "execution_count": null,
   "metadata": {},
   "outputs": [],
   "source": [
    "# 过拟合了？？？"
   ]
  }
 ],
 "metadata": {
  "kernelspec": {
   "display_name": "Python 3",
   "language": "python",
   "name": "python3"
  },
  "language_info": {
   "codemirror_mode": {
    "name": "ipython",
    "version": 3
   },
   "file_extension": ".py",
   "mimetype": "text/x-python",
   "name": "python",
   "nbconvert_exporter": "python",
   "pygments_lexer": "ipython3",
   "version": "3.7.6"
  }
 },
 "nbformat": 4,
 "nbformat_minor": 4
}
