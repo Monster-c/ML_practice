{
 "cells": [
  {
   "cell_type": "code",
   "execution_count": 6,
   "id": "a30de989-9737-4e9e-90d1-77f520feeba4",
   "metadata": {},
   "outputs": [],
   "source": [
    "import numpy as np\n",
    "\n",
    "'''\n",
    "指定k簇进行聚类\n",
    "'''\n",
    "class MyKmeans(object):\n",
    "    \n",
    "    def __init__(self, file, k):\n",
    "        self.dataset = self.load_data(file)\n",
    "        self.k = k\n",
    "#         self.clusters = np.zeros()\n",
    "    \n",
    "    # 加载数据\n",
    "    def load_data(self,file):\n",
    "        dataset = np.loadtxt(file, delimiter='\\t')\n",
    "        return dataset\n",
    "    \n",
    "    # 计算欧氏距离\n",
    "    def cal_dis(self, p1, p2):\n",
    "        distance = np.sqrt(np.sum(p1 - p2)**2)\n",
    "        return distance\n",
    "    \n",
    "    # 初始化质心\n",
    "    def init_center(self, dataset, k):\n",
    "        numSamples, dim = dataset.shape\n",
    "        init_center = np.zeros((k, dim))\n",
    "        for i in range(k):\n",
    "            index = int(np.random.uniform(0, numSamples))\n",
    "            init_center[i, :] = dataset[index, :]\n",
    "        return init_center\n",
    "    \n",
    "    # kmeans聚类\n",
    "    def kmeans(self):\n",
    "        m, n = self.dataset.shape\n",
    "#         print(m, n)\n",
    "        init_centers = self.init_center(self.dataset, self.k)\n",
    "        result_clusters = np.empty(m, dtype=np.int32)\n",
    "        while True:\n",
    "            d = np.square(np.repeat(self.dataset, self.k, axis=0).reshape(m, self.k, n) - init_centers)\n",
    "            distance = np.sqrt(np.sum(d, axis=2))\n",
    "            index_min = np.argmin(distance, axis=1)\n",
    "            \n",
    "            if(index_min == result_clusters).all():\n",
    "                return result_clusters, init_centers\n",
    "            \n",
    "            result_clusters[:] = index_min\n",
    "            for i in range(self.k):\n",
    "                items = self.dataset[result_clusters == i]\n",
    "                init_centers[i] = np.mean(items, axis=0)"
   ]
  },
  {
   "cell_type": "code",
   "execution_count": 7,
   "id": "db6499a6-44f0-4e63-a30c-56f29b675309",
   "metadata": {},
   "outputs": [
    {
     "data": {
      "image/png": "[encoded data removed]",
      "text/plain": [
       "<Figure size 432x288 with 1 Axes>"
      ]
     },
     "metadata": {
      "needs_background": "light"
     },
     "output_type": "display_data"
    }
   ],
   "source": [
    "import matplotlib.pyplot as plt\n",
    "\n",
    "myKmeans = MyKmeans('./test.txt', 4)\n",
    "\n",
    "# for i in myKmeans.dataset:\n",
    "#     plt.scatter(i[0], i[1])\n",
    "\n",
    "result_clusters, init_centers = myKmeans.kmeans()\n",
    "\n",
    "num = result_clusters.shape[0]\n",
    "# print(num)\n",
    "\n",
    "# print(result_clusters.shape)\n",
    "for i in range(0, num):\n",
    "    if result_clusters[i] == 0:\n",
    "        plt.scatter(myKmeans.dataset[i][0], myKmeans.dataset[i][1], c='b')\n",
    "    elif result_clusters[i] == 1:\n",
    "        plt.scatter(myKmeans.dataset[i][0], myKmeans.dataset[i][1], c='g')\n",
    "    elif result_clusters[i] == 2:\n",
    "        plt.scatter(myKmeans.dataset[i][0], myKmeans.dataset[i][1], c='black')\n",
    "    elif result_clusters[i] == 3:\n",
    "        plt.scatter(myKmeans.dataset[i][0], myKmeans.dataset[i][1], c='y')\n",
    "        \n",
    "\n",
    "for i in init_centers:\n",
    "    plt.scatter(i[0], i[1], c='r')"
   ]
  },
  {
   "cell_type": "code",
   "execution_count": null,
   "id": "8093a617-6c0b-4efa-98a3-a554a58b8423",
   "metadata": {},
   "outputs": [],
   "source": []
  }
 ],
 "metadata": {
  "kernelspec": {
   "display_name": "Python 3",
   "language": "python",
   "name": "python3"
  },
  "language_info": {
   "codemirror_mode": {
    "name": "ipython",
    "version": 3
   },
   "file_extension": ".py",
   "mimetype": "text/x-python",
   "name": "python",
   "nbconvert_exporter": "python",
   "pygments_lexer": "ipython3",
   "version": "3.8.5"
  }
 },
 "nbformat": 4,
 "nbformat_minor": 5
}
