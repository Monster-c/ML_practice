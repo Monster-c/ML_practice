{
 "cells": [
  {
   "cell_type": "code",
   "execution_count": 32,
   "id": "d4d87917-d6b6-4170-be3d-0f22c1ffce93",
   "metadata": {},
   "outputs": [],
   "source": [
    "import tensorflow as tf\n",
    "\n",
    "learning_rate = 1e-2\n",
    "training_iters = 500\n",
    "batch_size = 500\n",
    "display_step = 10\n",
    "\n",
    "# 图片shape 32x32x3 = 3072\n",
    "# n_input = 3072\n",
    "\n",
    "n_input = 784\n",
    "# 共10类\n",
    "n_classes = 10\n",
    "\n",
    "dropout = 0.85"
   ]
  },
  {
   "cell_type": "code",
   "execution_count": 33,
   "id": "aba32499-3ba4-49a7-bf64-376967f1c252",
   "metadata": {},
   "outputs": [
    {
     "name": "stdout",
     "output_type": "stream",
     "text": [
      "WARNING:tensorflow:From D:\\Path\\Anaconda\\envs\\rtvc\\lib\\site-packages\\tensorflow\\contrib\\learn\\python\\learn\\datasets\\base.py:252: _internal_retry.<locals>.wrap.<locals>.wrapped_fn (from tensorflow.contrib.learn.python.learn.datasets.base) is deprecated and will be removed in a future version.\n",
      "Instructions for updating:\n",
      "Please use urllib or similar directly.\n",
      "Successfully downloaded train-images-idx3-ubyte.gz 9912422 bytes.\n",
      "Extracting MNIST_data/train-images-idx3-ubyte.gz\n",
      "Successfully downloaded train-labels-idx1-ubyte.gz 28881 bytes.\n",
      "Extracting MNIST_data/train-labels-idx1-ubyte.gz\n",
      "Successfully downloaded t10k-images-idx3-ubyte.gz 1648877 bytes.\n",
      "Extracting MNIST_data/t10k-images-idx3-ubyte.gz\n",
      "Successfully downloaded t10k-labels-idx1-ubyte.gz 4542 bytes.\n",
      "Extracting MNIST_data/t10k-labels-idx1-ubyte.gz\n"
     ]
    }
   ],
   "source": [
    "from tensorflow.examples.tutorials.mnist import input_data\n",
    "\n",
    "mnist = input_data.read_data_sets(\"MNIST_data/\", one_hot='true')"
   ]
  },
  {
   "cell_type": "code",
   "execution_count": 34,
   "id": "671b07c8-c3ab-4785-847a-4200d7f2e64b",
   "metadata": {},
   "outputs": [],
   "source": [
    "x = tf.placeholder(tf.float32, [None, n_input], name='n_input')\n",
    "y = tf.placeholder(tf.float32, [None, n_classes], name='n_classes')\n",
    "keep_prob = tf.placeholder(tf.float32)"
   ]
  },
  {
   "cell_type": "code",
   "execution_count": 35,
   "id": "a5b8b8d5-da3a-4d6d-bc81-5d850caa286e",
   "metadata": {},
   "outputs": [],
   "source": [
    "# 给定卷集步幅\n",
    "def conv2d(x, W, b, strides=1):\n",
    "    x = tf.nn.conv2d(x, W, strides=[1, strides, strides, 1],\n",
    "                     padding='SAME')\n",
    "    x = tf.nn.bias_add(x, b)\n",
    "    return tf.nn.relu(x)\n",
    "\n",
    "\n",
    "# 定义一个dropout\n",
    "def maxpool2d(x, k=2):\n",
    "    return tf.nn.max_pool(x, ksize=[1, k, k, 1], strides=[1, k, k, 1],\n",
    "                          padding='SAME')"
   ]
  },
  {
   "cell_type": "code",
   "execution_count": 36,
   "id": "0443ff90-6d31-44c6-8367-851a27f84b0a",
   "metadata": {},
   "outputs": [],
   "source": [
    "# 定义两个卷积层， 一个全连接层作为网络输出\n",
    "def conv_net(x, weights, biases, dropout):\n",
    "    x = tf.reshape(x, shape=[-1, 28, 28, 1])\n",
    "    #     x = tf.reshape(x, shape = [-1, 32, 32, 1])\n",
    "\n",
    "    conv1 = conv2d(x, weights['wc1'], biases['bc1'])\n",
    "    conv1 = maxpool2d(conv1, k=2)\n",
    "\n",
    "    conv2 = conv2d(conv1, weights['wc2'], biases['bc2'])\n",
    "    conv2 = maxpool2d(conv2, k=2)\n",
    "\n",
    "    # 匹配全连接层的输入\n",
    "    fc1 = tf.reshape(conv2, [-1, weights['wd1'].get_shape().as_list()[0]])\n",
    "    # forward\n",
    "    fc1 = tf.add(tf.matmul(fc1, weights['wd1']), biases['bd1'])\n",
    "    # relu\n",
    "    fc1 = tf.nn.relu(fc1)\n",
    "    # dropout\n",
    "    fc1 = tf.nn.dropout(fc1, dropout)\n",
    "\n",
    "    out = tf.add(tf.matmul(fc1, weights['out']), biases['out'])\n",
    "    return out"
   ]
  },
  {
   "cell_type": "code",
   "execution_count": 37,
   "id": "06c497a1-f691-41ed-a3e3-4d12f7919032",
   "metadata": {},
   "outputs": [],
   "source": [
    "# 权重\n",
    "weights = {\n",
    "    # 5x5 conv, 1 input, 32 output\n",
    "    'wc1': tf.Variable(tf.random_normal([5, 5, 1, 32])),\n",
    "    # 5x5 conv, 32 input, 64 output\n",
    "    'wc2': tf.Variable(tf.random_normal([5, 5, 32, 64])),\n",
    "    # 全连接层\n",
    "    'wd1': tf.Variable(tf.random_normal([7 * 7 * 64, 1024])),\n",
    "    # 输出层 1024input， n类输出\n",
    "    'out': tf.Variable(tf.random_normal([1024, n_classes]))\n",
    "}\n",
    "\n",
    "# biases\n",
    "biases = {\n",
    "    'bc1': tf.Variable(tf.random_normal([32])),\n",
    "    'bc2': tf.Variable(tf.random_normal([64])),\n",
    "    'bd1': tf.Variable(tf.random_normal([1024])),\n",
    "    'out': tf.Variable(tf.random_normal([n_classes]))\n",
    "}"
   ]
  },
  {
   "cell_type": "code",
   "execution_count": 38,
   "id": "deb100a9-4be5-4f02-9a5a-ba2ee53459cd",
   "metadata": {},
   "outputs": [],
   "source": [
    "# model\n",
    "pred = conv_net(x, weights, biases, keep_prob)\n",
    "# 损失\n",
    "cost = tf.reduce_mean(tf.nn.softmax_cross_entropy_with_logits(logits=pred,\n",
    "                                                              labels=y))\n",
    "# 使用Adam优化器\n",
    "optimizer = tf.train.AdamOptimizer(learning_rate=learning_rate).minimize(cost)\n",
    "\n",
    "correct_prediction = tf.equal(tf.argmax(pred, 1),\n",
    "                              tf.argmax(y, 1))\n",
    "accuracy = tf.reduce_mean(tf.cast(correct_prediction, tf.float32))"
   ]
  },
  {
   "cell_type": "code",
   "execution_count": 39,
   "id": "c08090b8-e133-4cb3-9dd5-acd5e55fb049",
   "metadata": {},
   "outputs": [],
   "source": [
    "init = tf.global_variables_initializer()"
   ]
  },
  {
   "cell_type": "code",
   "execution_count": 40,
   "id": "1d46738d-2854-47b3-9892-e28e0abc06e4",
   "metadata": {},
   "outputs": [
    {
     "name": "stdout",
     "output_type": "stream",
     "text": [
      "Iter10, Minibatch Loss=:31618.37109375, Training Accuracy=:0.49799999594688416\n",
      "Testing Accuracy::0.49799999594688416\n",
      "Iter20, Minibatch Loss=:3458.630615234375, Training Accuracy=:0.6980000138282776\n",
      "Testing Accuracy::0.6980000138282776\n",
      "Iter30, Minibatch Loss=:1591.886962890625, Training Accuracy=:0.7760000228881836\n",
      "Testing Accuracy::0.7760000228881836\n",
      "Iter40, Minibatch Loss=:596.6370849609375, Training Accuracy=:0.8659999966621399\n",
      "Testing Accuracy::0.8659999966621399\n",
      "Iter50, Minibatch Loss=:543.7008056640625, Training Accuracy=:0.8700000047683716\n",
      "Testing Accuracy::0.8700000047683716\n",
      "Iter60, Minibatch Loss=:572.83642578125, Training Accuracy=:0.8740000128746033\n",
      "Testing Accuracy::0.8740000128746033\n",
      "Iter70, Minibatch Loss=:466.8603820800781, Training Accuracy=:0.9039999842643738\n",
      "Testing Accuracy::0.9039999842643738\n",
      "Iter80, Minibatch Loss=:208.26864624023438, Training Accuracy=:0.9399999976158142\n",
      "Testing Accuracy::0.9399999976158142\n",
      "Iter90, Minibatch Loss=:245.98887634277344, Training Accuracy=:0.9279999732971191\n",
      "Testing Accuracy::0.9279999732971191\n",
      "Iter100, Minibatch Loss=:244.66615295410156, Training Accuracy=:0.9359999895095825\n",
      "Testing Accuracy::0.9359999895095825\n",
      "Iter110, Minibatch Loss=:206.143310546875, Training Accuracy=:0.9480000138282776\n",
      "Testing Accuracy::0.9480000138282776\n",
      "Iter120, Minibatch Loss=:211.1862030029297, Training Accuracy=:0.9359999895095825\n",
      "Testing Accuracy::0.9359999895095825\n",
      "Iter130, Minibatch Loss=:127.9991226196289, Training Accuracy=:0.9679999947547913\n",
      "Testing Accuracy::0.9679999947547913\n",
      "Iter140, Minibatch Loss=:178.07156372070312, Training Accuracy=:0.9399999976158142\n",
      "Testing Accuracy::0.9399999976158142\n",
      "Iter150, Minibatch Loss=:160.8871307373047, Training Accuracy=:0.9480000138282776\n",
      "Testing Accuracy::0.9480000138282776\n",
      "Iter160, Minibatch Loss=:106.67828369140625, Training Accuracy=:0.9660000205039978\n",
      "Testing Accuracy::0.9660000205039978\n",
      "Iter170, Minibatch Loss=:192.9335479736328, Training Accuracy=:0.9440000057220459\n",
      "Testing Accuracy::0.9440000057220459\n",
      "Iter180, Minibatch Loss=:114.38624572753906, Training Accuracy=:0.9559999704360962\n",
      "Testing Accuracy::0.9559999704360962\n",
      "Iter190, Minibatch Loss=:83.01044464111328, Training Accuracy=:0.9639999866485596\n",
      "Testing Accuracy::0.9639999866485596\n",
      "Iter200, Minibatch Loss=:97.81659698486328, Training Accuracy=:0.9580000042915344\n",
      "Testing Accuracy::0.9580000042915344\n",
      "Iter210, Minibatch Loss=:42.89155197143555, Training Accuracy=:0.9819999933242798\n",
      "Testing Accuracy::0.9819999933242798\n",
      "Iter220, Minibatch Loss=:106.91297149658203, Training Accuracy=:0.9620000123977661\n",
      "Testing Accuracy::0.9620000123977661\n",
      "Iter230, Minibatch Loss=:58.62859344482422, Training Accuracy=:0.9660000205039978\n",
      "Testing Accuracy::0.9660000205039978\n",
      "Iter240, Minibatch Loss=:50.48040008544922, Training Accuracy=:0.9779999852180481\n",
      "Testing Accuracy::0.9779999852180481\n",
      "Iter250, Minibatch Loss=:47.205814361572266, Training Accuracy=:0.9800000190734863\n",
      "Testing Accuracy::0.9800000190734863\n",
      "Iter260, Minibatch Loss=:94.2056884765625, Training Accuracy=:0.972000002861023\n",
      "Testing Accuracy::0.972000002861023\n",
      "Iter270, Minibatch Loss=:26.758438110351562, Training Accuracy=:0.9900000095367432\n",
      "Testing Accuracy::0.9900000095367432\n",
      "Iter280, Minibatch Loss=:39.328983306884766, Training Accuracy=:0.972000002861023\n",
      "Testing Accuracy::0.972000002861023\n",
      "Iter290, Minibatch Loss=:73.817138671875, Training Accuracy=:0.9739999771118164\n",
      "Testing Accuracy::0.9739999771118164\n",
      "Iter300, Minibatch Loss=:31.359699249267578, Training Accuracy=:0.9819999933242798\n",
      "Testing Accuracy::0.9819999933242798\n",
      "Iter310, Minibatch Loss=:55.690757751464844, Training Accuracy=:0.972000002861023\n",
      "Testing Accuracy::0.972000002861023\n",
      "Iter320, Minibatch Loss=:29.124284744262695, Training Accuracy=:0.9819999933242798\n",
      "Testing Accuracy::0.9819999933242798\n",
      "Iter330, Minibatch Loss=:58.75942611694336, Training Accuracy=:0.9739999771118164\n",
      "Testing Accuracy::0.9739999771118164\n",
      "Iter340, Minibatch Loss=:52.49929428100586, Training Accuracy=:0.9800000190734863\n",
      "Testing Accuracy::0.9800000190734863\n",
      "Iter350, Minibatch Loss=:12.750069618225098, Training Accuracy=:0.9900000095367432\n",
      "Testing Accuracy::0.9900000095367432\n",
      "Iter360, Minibatch Loss=:10.91158390045166, Training Accuracy=:0.984000027179718\n",
      "Testing Accuracy::0.984000027179718\n",
      "Iter370, Minibatch Loss=:19.40272331237793, Training Accuracy=:0.9900000095367432\n",
      "Testing Accuracy::0.9900000095367432\n",
      "Iter380, Minibatch Loss=:23.816143035888672, Training Accuracy=:0.9860000014305115\n",
      "Testing Accuracy::0.9860000014305115\n",
      "Iter390, Minibatch Loss=:47.85946273803711, Training Accuracy=:0.9760000109672546\n",
      "Testing Accuracy::0.9760000109672546\n",
      "Iter400, Minibatch Loss=:41.160247802734375, Training Accuracy=:0.9800000190734863\n",
      "Testing Accuracy::0.9800000190734863\n",
      "Iter410, Minibatch Loss=:28.277090072631836, Training Accuracy=:0.9819999933242798\n",
      "Testing Accuracy::0.9819999933242798\n",
      "Iter420, Minibatch Loss=:11.34251594543457, Training Accuracy=:0.9879999756813049\n",
      "Testing Accuracy::0.9879999756813049\n",
      "Iter430, Minibatch Loss=:12.686393737792969, Training Accuracy=:0.9900000095367432\n",
      "Testing Accuracy::0.9900000095367432\n",
      "Iter440, Minibatch Loss=:32.91402816772461, Training Accuracy=:0.9879999756813049\n",
      "Testing Accuracy::0.9879999756813049\n",
      "Iter450, Minibatch Loss=:0.45276758074760437, Training Accuracy=:0.9980000257492065\n",
      "Testing Accuracy::0.9980000257492065\n",
      "Iter460, Minibatch Loss=:8.438329696655273, Training Accuracy=:0.9900000095367432\n",
      "Testing Accuracy::0.9900000095367432\n",
      "Iter470, Minibatch Loss=:1.7593613862991333, Training Accuracy=:0.9980000257492065\n",
      "Testing Accuracy::0.9980000257492065\n",
      "Iter480, Minibatch Loss=:6.048127174377441, Training Accuracy=:0.9959999918937683\n",
      "Testing Accuracy::0.9959999918937683\n",
      "Iter490, Minibatch Loss=:5.132251739501953, Training Accuracy=:0.9959999918937683\n",
      "Testing Accuracy::0.9959999918937683\n",
      "Iter500, Minibatch Loss=:0.5684511661529541, Training Accuracy=:0.9940000176429749\n",
      "Testing Accuracy::0.9940000176429749\n"
     ]
    }
   ],
   "source": [
    "train_loss = []\n",
    "train_acc = []\n",
    "test_acc = []\n",
    "\n",
    "with tf.Session() as sess:\n",
    "    sess.run(init)\n",
    "    step = 1\n",
    "    while step <= training_iters:\n",
    "        batch_x, batch_y = mnist.train.next_batch(batch_size)\n",
    "        # print(batch_x.shape)\n",
    "        # print(batch_y.shape)\n",
    "        sess.run(optimizer, feed_dict={x: batch_x,\n",
    "                                       y: batch_y,\n",
    "                                       keep_prob: 1.})\n",
    "        if step % display_step == 0:\n",
    "            loss_train, acc_train = sess.run([cost, accuracy],\n",
    "                                             feed_dict={x: batch_x,\n",
    "                                                        y: batch_y,\n",
    "                                                        keep_prob: 1.})\n",
    "            print(\"Iter\" + str(step) + \", Minibatch Loss=\" +\n",
    "                  \":{}\".format(loss_train) + \", Training Accuracy=\" +\n",
    "                  \":{}\".format(acc_train))\n",
    "            acc_test = sess.run(accuracy,\n",
    "                                feed_dict={x: batch_x,\n",
    "                                           y: batch_y,\n",
    "                                           keep_prob: 1.})\n",
    "            print(\"Testing Accuracy:\" +\n",
    "                  \":{}\".format(acc_train))\n",
    "            train_loss.append(loss_train)\n",
    "            train_acc.append(acc_train)\n",
    "            test_acc.append(acc_test)\n",
    "        step += 1\n",
    "    saver = tf.train.Saver()\n",
    "    model_path = './model.ckpt'\n",
    "    save_path = saver.save(sess, model_path)"
   ]
  },
  {
   "cell_type": "code",
   "execution_count": 41,
   "id": "b685267a-9403-4b76-a97a-4335d6ed4e95",
   "metadata": {},
   "outputs": [
    {
     "data": {
      "text/plain": "<Figure size 432x288 with 1 Axes>",
      "image/png": "[encoded data removed]"
     },
     "metadata": {
      "needs_background": "light"
     },
     "output_type": "display_data"
    }
   ],
   "source": [
    "import matplotlib.pyplot as plt\n",
    "\n",
    "eval_indices = range(0, training_iters, display_step)\n",
    "\n",
    "plt.plot(eval_indices, train_loss, 'k-')\n",
    "plt.title(\"Softmax Loss per iteration\")\n",
    "plt.xlabel('Iteration')\n",
    "plt.ylabel('Softmax Loss')\n",
    "plt.show()"
   ]
  },
  {
   "cell_type": "code",
   "execution_count": 42,
   "id": "0cfa07c8-91e7-4c66-93c4-5989ad44413f",
   "metadata": {},
   "outputs": [
    {
     "name": "stderr",
     "output_type": "stream",
     "text": [
      "No handles with labels found to put in legend.\n"
     ]
    },
    {
     "data": {
      "text/plain": "<Figure size 432x288 with 1 Axes>",
      "image/png": "[encoded data removed]"
     },
     "metadata": {
      "needs_background": "light"
     },
     "output_type": "display_data"
    }
   ],
   "source": [
    "plt.plot(eval_indices, train_acc, 'k-')\n",
    "plt.plot(eval_indices, test_acc, 'r--')\n",
    "plt.title('Train and Test Accuracy')\n",
    "plt.xlabel('Generation')\n",
    "plt.ylabel('Accuracy')\n",
    "plt.legend(loc='lower right')\n",
    "plt.show()\n"
   ]
  },
  {
   "cell_type": "code",
   "execution_count": 43,
   "outputs": [
    {
     "data": {
      "text/plain": "<matplotlib.image.AxesImage at 0x1e880524358>"
     },
     "execution_count": 43,
     "metadata": {},
     "output_type": "execute_result"
    },
    {
     "data": {
      "text/plain": "<Figure size 432x288 with 1 Axes>",
      "image/png": "[encoded data removed]"
     },
     "metadata": {
      "needs_background": "light"
     },
     "output_type": "display_data"
    }
   ],
   "source": [
    "plt.imshow(batch_x[1].reshape(28, 28))"
   ],
   "metadata": {
    "collapsed": false,
    "pycharm": {
     "name": "#%%\n"
    }
   }
  },
  {
   "cell_type": "code",
   "execution_count": null,
   "outputs": [
    {
     "name": "stdout",
     "output_type": "stream",
     "text": [
      "WARNING:tensorflow:From <ipython-input-1-701256af5bae>:3: read_data_sets (from tensorflow.contrib.learn.python.learn.datasets.mnist) is deprecated and will be removed in a future version.\n",
      "Instructions for updating:\n",
      "Please use alternatives such as official/mnist/dataset.py from tensorflow/models.\n",
      "WARNING:tensorflow:From D:\\Path\\Anaconda\\envs\\rtvc\\lib\\site-packages\\tensorflow\\contrib\\learn\\python\\learn\\datasets\\mnist.py:260: maybe_download (from tensorflow.contrib.learn.python.learn.datasets.base) is deprecated and will be removed in a future version.\n",
      "Instructions for updating:\n",
      "Please write your own downloading logic.\n",
      "WARNING:tensorflow:From D:\\Path\\Anaconda\\envs\\rtvc\\lib\\site-packages\\tensorflow\\contrib\\learn\\python\\learn\\datasets\\mnist.py:262: extract_images (from tensorflow.contrib.learn.python.learn.datasets.mnist) is deprecated and will be removed in a future version.\n",
      "Instructions for updating:\n",
      "Please use tf.data to implement this functionality.\n",
      "Extracting MNIST_data/train-images-idx3-ubyte.gz\n",
      "WARNING:tensorflow:From D:\\Path\\Anaconda\\envs\\rtvc\\lib\\site-packages\\tensorflow\\contrib\\learn\\python\\learn\\datasets\\mnist.py:267: extract_labels (from tensorflow.contrib.learn.python.learn.datasets.mnist) is deprecated and will be removed in a future version.\n",
      "Instructions for updating:\n",
      "Please use tf.data to implement this functionality.\n",
      "Extracting MNIST_data/train-labels-idx1-ubyte.gz\n",
      "WARNING:tensorflow:From D:\\Path\\Anaconda\\envs\\rtvc\\lib\\site-packages\\tensorflow\\contrib\\learn\\python\\learn\\datasets\\mnist.py:110: dense_to_one_hot (from tensorflow.contrib.learn.python.learn.datasets.mnist) is deprecated and will be removed in a future version.\n",
      "Instructions for updating:\n",
      "Please use tf.one_hot on tensors.\n",
      "Extracting MNIST_data/t10k-images-idx3-ubyte.gz\n",
      "Extracting MNIST_data/t10k-labels-idx1-ubyte.gz\n",
      "WARNING:tensorflow:From D:\\Path\\Anaconda\\envs\\rtvc\\lib\\site-packages\\tensorflow\\contrib\\learn\\python\\learn\\datasets\\mnist.py:290: DataSet.__init__ (from tensorflow.contrib.learn.python.learn.datasets.mnist) is deprecated and will be removed in a future version.\n",
      "Instructions for updating:\n",
      "Please use alternatives such as official/mnist/dataset.py from tensorflow/models.\n"
     ]
    },
    {
     "ename": "TypeError",
     "evalue": "Image data of dtype object cannot be converted to float",
     "output_type": "error",
     "traceback": [
      "\u001B[1;31m---------------------------------------------------------------------------\u001B[0m",
      "\u001B[1;31mTypeError\u001B[0m                                 Traceback (most recent call last)",
      "\u001B[1;32m<ipython-input-1-701256af5bae>\u001B[0m in \u001B[0;36m<module>\u001B[1;34m\u001B[0m\n\u001B[0;32m      7\u001B[0m \u001B[1;32mimport\u001B[0m \u001B[0mmatplotlib\u001B[0m\u001B[1;33m.\u001B[0m\u001B[0mpyplot\u001B[0m \u001B[1;32mas\u001B[0m \u001B[0mplt\u001B[0m\u001B[1;33m\u001B[0m\u001B[1;33m\u001B[0m\u001B[0m\n\u001B[0;32m      8\u001B[0m \u001B[1;33m\u001B[0m\u001B[0m\n\u001B[1;32m----> 9\u001B[1;33m \u001B[0mplt\u001B[0m\u001B[1;33m.\u001B[0m\u001B[0mimshow\u001B[0m\u001B[1;33m(\u001B[0m\u001B[0mbatch_x\u001B[0m\u001B[1;33m[\u001B[0m\u001B[1;36m0\u001B[0m\u001B[1;33m]\u001B[0m\u001B[1;33m.\u001B[0m\u001B[0mreshape\u001B[0m\u001B[1;33m)\u001B[0m\u001B[1;33m\u001B[0m\u001B[1;33m\u001B[0m\u001B[0m\n\u001B[0m",
      "\u001B[1;32mD:\\Path\\Anaconda\\envs\\rtvc\\lib\\site-packages\\matplotlib\\pyplot.py\u001B[0m in \u001B[0;36mimshow\u001B[1;34m(X, cmap, norm, aspect, interpolation, alpha, vmin, vmax, origin, extent, shape, filternorm, filterrad, imlim, resample, url, data, **kwargs)\u001B[0m\n\u001B[0;32m   2675\u001B[0m         \u001B[0mfilternorm\u001B[0m\u001B[1;33m=\u001B[0m\u001B[0mfilternorm\u001B[0m\u001B[1;33m,\u001B[0m \u001B[0mfilterrad\u001B[0m\u001B[1;33m=\u001B[0m\u001B[0mfilterrad\u001B[0m\u001B[1;33m,\u001B[0m \u001B[0mimlim\u001B[0m\u001B[1;33m=\u001B[0m\u001B[0mimlim\u001B[0m\u001B[1;33m,\u001B[0m\u001B[1;33m\u001B[0m\u001B[1;33m\u001B[0m\u001B[0m\n\u001B[0;32m   2676\u001B[0m         resample=resample, url=url, **({\"data\": data} if data is not\n\u001B[1;32m-> 2677\u001B[1;33m         None else {}), **kwargs)\n\u001B[0m\u001B[0;32m   2678\u001B[0m     \u001B[0msci\u001B[0m\u001B[1;33m(\u001B[0m\u001B[0m__ret\u001B[0m\u001B[1;33m)\u001B[0m\u001B[1;33m\u001B[0m\u001B[1;33m\u001B[0m\u001B[0m\n\u001B[0;32m   2679\u001B[0m     \u001B[1;32mreturn\u001B[0m \u001B[0m__ret\u001B[0m\u001B[1;33m\u001B[0m\u001B[1;33m\u001B[0m\u001B[0m\n",
      "\u001B[1;32mD:\\Path\\Anaconda\\envs\\rtvc\\lib\\site-packages\\matplotlib\\__init__.py\u001B[0m in \u001B[0;36minner\u001B[1;34m(ax, data, *args, **kwargs)\u001B[0m\n\u001B[0;32m   1597\u001B[0m     \u001B[1;32mdef\u001B[0m \u001B[0minner\u001B[0m\u001B[1;33m(\u001B[0m\u001B[0max\u001B[0m\u001B[1;33m,\u001B[0m \u001B[1;33m*\u001B[0m\u001B[0margs\u001B[0m\u001B[1;33m,\u001B[0m \u001B[0mdata\u001B[0m\u001B[1;33m=\u001B[0m\u001B[1;32mNone\u001B[0m\u001B[1;33m,\u001B[0m \u001B[1;33m**\u001B[0m\u001B[0mkwargs\u001B[0m\u001B[1;33m)\u001B[0m\u001B[1;33m:\u001B[0m\u001B[1;33m\u001B[0m\u001B[1;33m\u001B[0m\u001B[0m\n\u001B[0;32m   1598\u001B[0m         \u001B[1;32mif\u001B[0m \u001B[0mdata\u001B[0m \u001B[1;32mis\u001B[0m \u001B[1;32mNone\u001B[0m\u001B[1;33m:\u001B[0m\u001B[1;33m\u001B[0m\u001B[1;33m\u001B[0m\u001B[0m\n\u001B[1;32m-> 1599\u001B[1;33m             \u001B[1;32mreturn\u001B[0m \u001B[0mfunc\u001B[0m\u001B[1;33m(\u001B[0m\u001B[0max\u001B[0m\u001B[1;33m,\u001B[0m \u001B[1;33m*\u001B[0m\u001B[0mmap\u001B[0m\u001B[1;33m(\u001B[0m\u001B[0msanitize_sequence\u001B[0m\u001B[1;33m,\u001B[0m \u001B[0margs\u001B[0m\u001B[1;33m)\u001B[0m\u001B[1;33m,\u001B[0m \u001B[1;33m**\u001B[0m\u001B[0mkwargs\u001B[0m\u001B[1;33m)\u001B[0m\u001B[1;33m\u001B[0m\u001B[1;33m\u001B[0m\u001B[0m\n\u001B[0m\u001B[0;32m   1600\u001B[0m \u001B[1;33m\u001B[0m\u001B[0m\n\u001B[0;32m   1601\u001B[0m         \u001B[0mbound\u001B[0m \u001B[1;33m=\u001B[0m \u001B[0mnew_sig\u001B[0m\u001B[1;33m.\u001B[0m\u001B[0mbind\u001B[0m\u001B[1;33m(\u001B[0m\u001B[0max\u001B[0m\u001B[1;33m,\u001B[0m \u001B[1;33m*\u001B[0m\u001B[0margs\u001B[0m\u001B[1;33m,\u001B[0m \u001B[1;33m**\u001B[0m\u001B[0mkwargs\u001B[0m\u001B[1;33m)\u001B[0m\u001B[1;33m\u001B[0m\u001B[1;33m\u001B[0m\u001B[0m\n",
      "\u001B[1;32mD:\\Path\\Anaconda\\envs\\rtvc\\lib\\site-packages\\matplotlib\\cbook\\deprecation.py\u001B[0m in \u001B[0;36mwrapper\u001B[1;34m(*args, **kwargs)\u001B[0m\n\u001B[0;32m    367\u001B[0m                 \u001B[1;34mf\"%(removal)s.  If any parameter follows {name!r}, they \"\u001B[0m\u001B[1;33m\u001B[0m\u001B[1;33m\u001B[0m\u001B[0m\n\u001B[0;32m    368\u001B[0m                 f\"should be pass as keyword, not positionally.\")\n\u001B[1;32m--> 369\u001B[1;33m         \u001B[1;32mreturn\u001B[0m \u001B[0mfunc\u001B[0m\u001B[1;33m(\u001B[0m\u001B[1;33m*\u001B[0m\u001B[0margs\u001B[0m\u001B[1;33m,\u001B[0m \u001B[1;33m**\u001B[0m\u001B[0mkwargs\u001B[0m\u001B[1;33m)\u001B[0m\u001B[1;33m\u001B[0m\u001B[1;33m\u001B[0m\u001B[0m\n\u001B[0m\u001B[0;32m    370\u001B[0m \u001B[1;33m\u001B[0m\u001B[0m\n\u001B[0;32m    371\u001B[0m     \u001B[1;32mreturn\u001B[0m \u001B[0mwrapper\u001B[0m\u001B[1;33m\u001B[0m\u001B[1;33m\u001B[0m\u001B[0m\n",
      "\u001B[1;32mD:\\Path\\Anaconda\\envs\\rtvc\\lib\\site-packages\\matplotlib\\cbook\\deprecation.py\u001B[0m in \u001B[0;36mwrapper\u001B[1;34m(*args, **kwargs)\u001B[0m\n\u001B[0;32m    367\u001B[0m                 \u001B[1;34mf\"%(removal)s.  If any parameter follows {name!r}, they \"\u001B[0m\u001B[1;33m\u001B[0m\u001B[1;33m\u001B[0m\u001B[0m\n\u001B[0;32m    368\u001B[0m                 f\"should be pass as keyword, not positionally.\")\n\u001B[1;32m--> 369\u001B[1;33m         \u001B[1;32mreturn\u001B[0m \u001B[0mfunc\u001B[0m\u001B[1;33m(\u001B[0m\u001B[1;33m*\u001B[0m\u001B[0margs\u001B[0m\u001B[1;33m,\u001B[0m \u001B[1;33m**\u001B[0m\u001B[0mkwargs\u001B[0m\u001B[1;33m)\u001B[0m\u001B[1;33m\u001B[0m\u001B[1;33m\u001B[0m\u001B[0m\n\u001B[0m\u001B[0;32m    370\u001B[0m \u001B[1;33m\u001B[0m\u001B[0m\n\u001B[0;32m    371\u001B[0m     \u001B[1;32mreturn\u001B[0m \u001B[0mwrapper\u001B[0m\u001B[1;33m\u001B[0m\u001B[1;33m\u001B[0m\u001B[0m\n",
      "\u001B[1;32mD:\\Path\\Anaconda\\envs\\rtvc\\lib\\site-packages\\matplotlib\\axes\\_axes.py\u001B[0m in \u001B[0;36mimshow\u001B[1;34m(self, X, cmap, norm, aspect, interpolation, alpha, vmin, vmax, origin, extent, shape, filternorm, filterrad, imlim, resample, url, **kwargs)\u001B[0m\n\u001B[0;32m   5677\u001B[0m                               resample=resample, **kwargs)\n\u001B[0;32m   5678\u001B[0m \u001B[1;33m\u001B[0m\u001B[0m\n\u001B[1;32m-> 5679\u001B[1;33m         \u001B[0mim\u001B[0m\u001B[1;33m.\u001B[0m\u001B[0mset_data\u001B[0m\u001B[1;33m(\u001B[0m\u001B[0mX\u001B[0m\u001B[1;33m)\u001B[0m\u001B[1;33m\u001B[0m\u001B[1;33m\u001B[0m\u001B[0m\n\u001B[0m\u001B[0;32m   5680\u001B[0m         \u001B[0mim\u001B[0m\u001B[1;33m.\u001B[0m\u001B[0mset_alpha\u001B[0m\u001B[1;33m(\u001B[0m\u001B[0malpha\u001B[0m\u001B[1;33m)\u001B[0m\u001B[1;33m\u001B[0m\u001B[1;33m\u001B[0m\u001B[0m\n\u001B[0;32m   5681\u001B[0m         \u001B[1;32mif\u001B[0m \u001B[0mim\u001B[0m\u001B[1;33m.\u001B[0m\u001B[0mget_clip_path\u001B[0m\u001B[1;33m(\u001B[0m\u001B[1;33m)\u001B[0m \u001B[1;32mis\u001B[0m \u001B[1;32mNone\u001B[0m\u001B[1;33m:\u001B[0m\u001B[1;33m\u001B[0m\u001B[1;33m\u001B[0m\u001B[0m\n",
      "\u001B[1;32mD:\\Path\\Anaconda\\envs\\rtvc\\lib\\site-packages\\matplotlib\\image.py\u001B[0m in \u001B[0;36mset_data\u001B[1;34m(self, A)\u001B[0m\n\u001B[0;32m    683\u001B[0m                 not np.can_cast(self._A.dtype, float, \"same_kind\")):\n\u001B[0;32m    684\u001B[0m             raise TypeError(\"Image data of dtype {} cannot be converted to \"\n\u001B[1;32m--> 685\u001B[1;33m                             \"float\".format(self._A.dtype))\n\u001B[0m\u001B[0;32m    686\u001B[0m \u001B[1;33m\u001B[0m\u001B[0m\n\u001B[0;32m    687\u001B[0m         if not (self._A.ndim == 2\n",
      "\u001B[1;31mTypeError\u001B[0m: Image data of dtype object cannot be converted to float"
     ]
    },
    {
     "data": {
      "text/plain": "<Figure size 432x288 with 1 Axes>",
      "image/png": "[encoded data removed]"
     },
     "metadata": {
      "needs_background": "light"
     },
     "output_type": "display_data"
    }
   ],
   "source": [
    "from tensorflow.examples.tutorials.mnist import input_data\n",
    "\n",
    "mnist = input_data.read_data_sets(\"MNIST_data/\", one_hot='true')\n",
    "\n",
    "batch_x, batch_y = mnist.train.next_batch(10)\n",
    "\n",
    "import matplotlib.pyplot as plt\n",
    "\n",
    "plt.imshow(batch_x[0].reshape)"
   ],
   "metadata": {
    "collapsed": false,
    "pycharm": {
     "name": "#%%\n"
    }
   }
  }
 ],
 "metadata": {
  "kernelspec": {
   "display_name": "Python [conda env:rtvc]",
   "language": "python",
   "name": "conda-env-rtvc-py"
  },
  "language_info": {
   "codemirror_mode": {
    "name": "ipython",
    "version": 3
   },
   "file_extension": ".py",
   "mimetype": "text/x-python",
   "name": "python",
   "nbconvert_exporter": "python",
   "pygments_lexer": "ipython3",
   "version": "3.6.12"
  }
 },
 "nbformat": 4,
 "nbformat_minor": 5
}